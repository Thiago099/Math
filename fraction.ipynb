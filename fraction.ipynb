{
 "cells": [
  {
   "cell_type": "code",
   "execution_count": 1,
   "metadata": {},
   "outputs": [
    {
     "name": "stdout",
     "output_type": "stream",
     "text": [
      "['/', 10, 3]\n"
     ]
    }
   ],
   "source": [
    "def div(a, b):\n",
    "    fraction_a = isinstance(a, list) and a[0] == '/'\n",
    "    fraction_b = isinstance(b, list) and b[0] == '/'\n",
    "    if(fraction_a or fraction_b):\n",
    "        if(not fraction_a):\n",
    "            a = ['/', a, 1]\n",
    "        if(not fraction_b):\n",
    "            b = ['/', b, 1]\n",
    "        a, b = a[1] * b[2], a[2] * b[1]\n",
    "    result = a / b\n",
    "    if(result.is_integer()):\n",
    "        return int(result)\n",
    "    return ['/', a, b]\n",
    "def mul(a, b):\n",
    "    fraction_a = isinstance(a, list) and a[0] == '/'\n",
    "    fraction_b = isinstance(b, list) and b[0] == '/'\n",
    "    if(fraction_a or fraction_b):\n",
    "        if(not fraction_a):\n",
    "            a = ['/' ,a, 1]\n",
    "        if(not fraction_b):\n",
    "            b = ['/', b, 1]\n",
    "        a, b = a[1] * b[1], a[2] * b[2]\n",
    "    result = a * b\n",
    "    if(result.is_integer()):\n",
    "        return int(result)\n",
    "    return ['*', a, b]\n",
    "\n",
    "print(div(10, 3))\n"
   ]
  },
  {
   "cell_type": "code",
   "execution_count": 1,
   "metadata": {},
   "outputs": [
    {
     "name": "stdout",
     "output_type": "stream",
     "text": [
      "0.4877666561377306\n",
      "0.4877666561377307\n",
      "\n",
      "0.9974745269003772\n",
      "0.9974745269003771\n",
      "\n",
      "0.24276068728619804\n",
      "0.24276068728619807\n",
      "\n",
      "0.49322149624746514\n",
      "0.4932214962474651\n",
      "\n",
      "0.732791519953501\n",
      "0.7327915199535009\n",
      "\n",
      "0.21682099929774268\n",
      "0.2168209992977427\n",
      "\n",
      "0.7578590438648878\n",
      "0.7578590438648879\n",
      "\n",
      "0.820406008942045\n",
      "0.8204060089420449\n",
      "\n",
      "0.8296570073052021\n",
      "0.8296570073052022\n",
      "\n",
      "0.22568537838330394\n",
      "0.2256853783833039\n",
      "\n",
      "0.7498348758142908\n",
      "0.7498348758142906\n",
      "\n",
      "0.23369848313412878\n",
      "0.23369848313412875\n",
      "\n",
      "0.8094825873256593\n",
      "0.8094825873256594\n",
      "\n",
      "0.9580004820524706\n",
      "0.9580004820524705\n",
      "\n",
      "0.44462602456238987\n",
      "0.4446260245623899\n",
      "\n",
      "0.9267554634260834\n",
      "0.9267554634260835\n",
      "\n",
      "0.8004872567590079\n",
      "0.800487256759008\n",
      "\n",
      "0.11136837923619203\n",
      "0.11136837923619204\n",
      "\n",
      "0.057476722426800575\n",
      "0.05747672242680057\n",
      "\n",
      "0.9968045349969317\n",
      "0.9968045349969316\n",
      "\n",
      "0.9878852254482022\n",
      "0.9878852254482023\n",
      "\n"
     ]
    }
   ],
   "source": [
    "import random as rd\n",
    "\n",
    "\n",
    "for i in range(100):\n",
    "    a = rd.uniform(0,1)\n",
    "    divisor = 1 / a\n",
    "    if(a != 1/divisor):\n",
    "        print(a)\n",
    "        print(1/ divisor)\n",
    "        print()"
   ]
  }
 ],
 "metadata": {
  "interpreter": {
   "hash": "ac59ebe37160ed0dfa835113d9b8498d9f09ceb179beaac4002f036b9467c963"
  },
  "kernelspec": {
   "display_name": "Python 3.9.1 64-bit",
   "name": "python3"
  },
  "language_info": {
   "codemirror_mode": {
    "name": "ipython",
    "version": 3
   },
   "file_extension": ".py",
   "mimetype": "text/x-python",
   "name": "python",
   "nbconvert_exporter": "python",
   "pygments_lexer": "ipython3",
   "version": "3.9.1"
  },
  "orig_nbformat": 4
 },
 "nbformat": 4,
 "nbformat_minor": 2
}
