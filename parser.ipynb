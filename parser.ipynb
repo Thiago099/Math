{
 "cells": [
  {
   "cell_type": "code",
   "execution_count": 12,
   "source": [
    "import tokenizer as to\r\n",
    "import math as mt\r\n",
    "\r\n",
    "\r\n",
    "def parse_group(input):\r\n",
    "    expression = {}\r\n",
    "    value = {}\r\n",
    "    def split(input):\r\n",
    "        result = []\r\n",
    "        current = []\r\n",
    "        for i in input:\r\n",
    "            if(i == ['#', '=']):\r\n",
    "                result.append(current)\r\n",
    "                current = []\r\n",
    "            else:\r\n",
    "                current.append(i)\r\n",
    "        result.append(current)\r\n",
    "        return result\r\n",
    "    for i in input:\r\n",
    "        ii = split(to.parse(i))\r\n",
    "        def single(a, b):\r\n",
    "            if ii[b][0][0] == 'A':\r\n",
    "                pos = ii[b][0][1]\r\n",
    "                if len(ii[a]) == 1:\r\n",
    "                    if(ii[a][0][0] == 'A'):\r\n",
    "                        value[ii[a][0][1]] = ii[b][0] \r\n",
    "                    value[pos] = ii[a][0]\r\n",
    "                else:\r\n",
    "                    try:\r\n",
    "                        expression[pos].append(ii[a])\r\n",
    "                    except:\r\n",
    "                        expression[pos] = [ii[a]]\r\n",
    "            \r\n",
    "        if len(ii[0]) == 1:\r\n",
    "            single(1, 0)\r\n",
    "        elif len(ii[1]) == 1:\r\n",
    "            single(0, 1)\r\n",
    "\r\n",
    "    print(expression)\r\n",
    "    fun = {\r\n",
    "        'sin'       : mt.sin,\r\n",
    "        'sind'      : lambda a: mt.sin(mt.radians(a)),\r\n",
    "        'cos'       : mt.cos,\r\n",
    "        'cosd'      : lambda a: mt.cos(mt.radians(a)),\r\n",
    "        'tan'       : mt.tan,\r\n",
    "        'tand'      : lambda a: mt.tan(mt.radians(a)),\r\n",
    "    }\r\n",
    "    # print(value)\r\n",
    "\r\n",
    "    unknown = {}\r\n",
    "    for i in expression:\r\n",
    "        for j in expression[i]:\r\n",
    "            for k in j:\r\n",
    "                \r\n",
    "                def read_char(l):\r\n",
    "                    if l not in expression and l not in fun.keys():\r\n",
    "                        if(l not in unknown):\r\n",
    "                            unknown[l] = [i]\r\n",
    "                        else:\r\n",
    "                            unknown[l].append(i)\r\n",
    "                def read_parentesis(l):\r\n",
    "                    for m in l:\r\n",
    "                        function[m[0]](m[1])\r\n",
    "                function = {\r\n",
    "                    '[': read_parentesis,\r\n",
    "                    '(': read_parentesis,\r\n",
    "                    '{': read_parentesis,\r\n",
    "                    'A': read_char\r\n",
    "                }\r\n",
    "                function[k[0]](k[1])\r\n",
    "    print(unknown)\r\n",
    "    \r\n",
    "input = [\r\n",
    "    'f = m a',\r\n",
    "    'f = p sind(theta)',\r\n",
    "    'p = m g',\r\n",
    "    # 'g = 9.8',\r\n",
    "    # 'm = 8.5',\r\n",
    "    # 'theta = 30'\r\n",
    "]\r\n",
    "\r\n",
    "parse_group(input)"
   ],
   "outputs": [
    {
     "output_type": "stream",
     "name": "stdout",
     "text": [
      "{'f': [[['A', 'm'], ['A', 'a']], [['A', 'p'], ['A', 'sind'], ['(', [['A', 'theta']]]]], 'p': [[['A', 'm'], ['A', 'g']]]}\n",
      "{'m': ['f', 'p'], 'a': ['f'], 'theta': ['f'], 'g': ['p']}\n"
     ]
    }
   ],
   "metadata": {}
  },
  {
   "cell_type": "code",
   "execution_count": 13,
   "source": [
    "output = [\r\n",
    "    'm a = m g sind(theta)',\r\n",
    "    'a = g sind(theta)',\r\n",
    "    'a = 9.8 sind(30)',\r\n",
    "    'a = 4.9',\r\n",
    "]\r\n",
    "parse_group(output)"
   ],
   "outputs": [
    {
     "output_type": "stream",
     "name": "stdout",
     "text": [
      "{'a': [[['A', 'g'], ['A', 'sind'], ['(', [['A', 'theta']]]], [['0', 9.8], ['A', 'sind'], ['(', [['0', 30]]]]]}\n"
     ]
    }
   ],
   "metadata": {}
  },
  {
   "cell_type": "markdown",
   "source": [],
   "metadata": {}
  }
 ],
 "metadata": {
  "orig_nbformat": 4,
  "language_info": {
   "name": "python",
   "version": "3.9.1",
   "mimetype": "text/x-python",
   "codemirror_mode": {
    "name": "ipython",
    "version": 3
   },
   "pygments_lexer": "ipython3",
   "nbconvert_exporter": "python",
   "file_extension": ".py"
  },
  "kernelspec": {
   "name": "python3",
   "display_name": "Python 3.9.1 64-bit"
  },
  "interpreter": {
   "hash": "ac59ebe37160ed0dfa835113d9b8498d9f09ceb179beaac4002f036b9467c963"
  }
 },
 "nbformat": 4,
 "nbformat_minor": 2
}