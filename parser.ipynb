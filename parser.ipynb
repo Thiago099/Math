{
 "cells": [
  {
   "cell_type": "code",
   "execution_count": 6,
   "source": [
    "import tokenizer as to"
   ],
   "outputs": [],
   "metadata": {}
  },
  {
   "cell_type": "code",
   "execution_count": 2,
   "source": [
    "def split(input):\r\n",
    "    result = []\r\n",
    "    current = []\r\n",
    "    for i in input:\r\n",
    "        if(i == ['#', '=']):\r\n",
    "            result.append(current)\r\n",
    "            current = []\r\n",
    "        else:\r\n",
    "            current.append(i)\r\n",
    "    result.append(current)\r\n",
    "    return result"
   ],
   "outputs": [],
   "metadata": {}
  },
  {
   "cell_type": "code",
   "execution_count": 8,
   "source": [
    "\r\n",
    "input = [\r\n",
    "    'f = m a',\r\n",
    "    'f = p sind(theta)',\r\n",
    "    'p = m g',\r\n",
    "    'g = 9.8',\r\n",
    "    'm = 8.5',\r\n",
    "    'theta = 30'\r\n",
    "]\r\n",
    "\r\n",
    "\r\n",
    "for i in input:\r\n",
    "    print(split(to.parse(i)))"
   ],
   "outputs": [
    {
     "output_type": "stream",
     "name": "stdout",
     "text": [
      "[[['a', 'f']], [['a', 'm'], ['a', 'a']]]\n",
      "[[['a', 'f']], [['a', 'p'], ['a', 'sind'], ['(', [['a', 'theta']]]]]\n",
      "[[['a', 'p']], [['a', 'm'], ['a', 'g']]]\n",
      "[[['a', 'g']], [['0', 9.8]]]\n",
      "[[['a', 'm']], [['0', 8.5]]]\n",
      "[[['a', 'theta']], [['0', 30]]]\n"
     ]
    }
   ],
   "metadata": {}
  },
  {
   "cell_type": "code",
   "execution_count": 7,
   "source": [
    "output = [\r\n",
    "    'm a = m g sind(theta)',\r\n",
    "    'a = g sind(theta)',\r\n",
    "    'a = 9.8 sind(30)',\r\n",
    "    'a = 4.9',\r\n",
    "]\r\n",
    "for i in output:\r\n",
    "    print(split(to.parse(i)))"
   ],
   "outputs": [
    {
     "output_type": "stream",
     "name": "stdout",
     "text": [
      "[[['a', 'm'], ['a', 'a']], [['a', 'm'], ['a', 'g'], ['a', 'sind'], ['(', [['a', 'theta']]]]]\n",
      "[[['a', 'a']], [['a', 'g'], ['a', 'sind'], ['(', [['a', 'theta']]]]]\n",
      "[[['a', 'a']], [['0', 9.8], ['a', 'sind'], ['(', [['0', 30]]]]]\n",
      "[[['a', 'a']], [['0', 4.9]]]\n"
     ]
    }
   ],
   "metadata": {}
  }
 ],
 "metadata": {
  "orig_nbformat": 4,
  "language_info": {
   "name": "python",
   "version": "3.9.1",
   "mimetype": "text/x-python",
   "codemirror_mode": {
    "name": "ipython",
    "version": 3
   },
   "pygments_lexer": "ipython3",
   "nbconvert_exporter": "python",
   "file_extension": ".py"
  },
  "kernelspec": {
   "name": "python3",
   "display_name": "Python 3.9.1 64-bit"
  },
  "interpreter": {
   "hash": "ac59ebe37160ed0dfa835113d9b8498d9f09ceb179beaac4002f036b9467c963"
  }
 },
 "nbformat": 4,
 "nbformat_minor": 2
}