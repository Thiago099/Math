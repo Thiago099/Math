{
 "cells": [
  {
   "cell_type": "code",
   "execution_count": 8,
   "metadata": {},
   "outputs": [
    {
     "name": "stdout",
     "output_type": "stream",
     "text": [
      "{'f': [[8.5, a], [8.5, 9.8, sind, (30)]], 'p': [[8.5, 9.8]]}\n",
      "{'g': 9.8, 'm': 8.5, 'theta': 30}\n"
     ]
    }
   ],
   "source": [
    "import tokenizer as to\n",
    "\n",
    "input = [\n",
    "    'f = m a',\n",
    "    'f = p sind(theta)',\n",
    "    'p = m g',\n",
    "    'g = 9.8',\n",
    "    'm = 8.5',\n",
    "    'theta = 30'\n",
    "]\n",
    "\n",
    "def parse_system(input):\n",
    "    expression = []\n",
    "    for i in input:\n",
    "        expression.append(to.parse(i))\n",
    "    return expression\n",
    "\n",
    "\n",
    "\n",
    "\n",
    "literal = parse_system(input)\n",
    "\n",
    "\n",
    "\n",
    "expression, value = to.parse_group(literal)\n",
    "\n",
    "def replace(line):\n",
    "    i = 0\n",
    "    while i < len(line):\n",
    "        if(line[i].type in to.parentesis.keys()):\n",
    "            replace(line[i].value)\n",
    "        elif(line[i].type == 'A'):\n",
    "            if(line[i].value in value.keys()):\n",
    "                line[i] = value[line[i].value]\n",
    "            elif(line[i].value in expression.keys()):\n",
    "                cur = expression[line[i].value][0]\n",
    "                replace(cur)\n",
    "                line[:] = line[:i] + cur + line[i+1:]\n",
    "                i += len(cur)\n",
    "                continue\n",
    "        i += 1\n",
    "\n",
    "\n",
    "\n",
    "# for i in literal:\n",
    "#     replace(i)\n",
    "\n",
    "for i in expression.keys():\n",
    "    for j in expression[i]:\n",
    "        replace(j)\n",
    "\n",
    "\n",
    "print(expression)\n",
    "print(value)\n",
    "\n"
   ]
  },
  {
   "cell_type": "code",
   "execution_count": 1,
   "metadata": {},
   "outputs": [],
   "source": [
    "output = [\n",
    "    'm a = m g sind(theta)',\n",
    "    'a = g sind(theta)',\n",
    "    'a = 9.8 sind(30)',\n",
    "    'a = 4.9',\n",
    "]"
   ]
  }
 ],
 "metadata": {
  "interpreter": {
   "hash": "ac59ebe37160ed0dfa835113d9b8498d9f09ceb179beaac4002f036b9467c963"
  },
  "kernelspec": {
   "display_name": "Python 3.9.1 64-bit",
   "name": "python3"
  },
  "language_info": {
   "codemirror_mode": {
    "name": "ipython",
    "version": 3
   },
   "file_extension": ".py",
   "mimetype": "text/x-python",
   "name": "python",
   "nbconvert_exporter": "python",
   "pygments_lexer": "ipython3",
   "version": "3.9.1"
  },
  "orig_nbformat": 4
 },
 "nbformat": 4,
 "nbformat_minor": 2
}
