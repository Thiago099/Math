{
 "cells": [
  {
   "cell_type": "code",
   "execution_count": 1,
   "source": [
    "def div(a, b):\r\n",
    "    fraction_a = isinstance(a, list) and a[2] == '/'\r\n",
    "    fraction_b = isinstance(b, list) and b[2] == '/'\r\n",
    "    if(fraction_a or fraction_b):\r\n",
    "        if(not fraction_a):\r\n",
    "            a = [a, 1]\r\n",
    "        if(not fraction_b):\r\n",
    "            b = [b, 1]\r\n",
    "        a, b = a[0] * b[1], a[1] * b[0]\r\n",
    "    result = a / b\r\n",
    "    if(result.is_integer()):\r\n",
    "        return int(result)\r\n",
    "    return [a, b, '/']\r\n",
    "def mul(a, b):\r\n",
    "    fraction_a = isinstance(a, list) and a[2] == '/'\r\n",
    "    fraction_b = isinstance(b, list) and b[2] == '/'\r\n",
    "    if(fraction_a or fraction_b):\r\n",
    "        if(not fraction_a):\r\n",
    "            a = [a, 1]\r\n",
    "        if(not fraction_b):\r\n",
    "            b = [b, 1]\r\n",
    "        a, b = a[0] * b[0], a[1] * b[1]\r\n",
    "    result = a * b\r\n",
    "    if(result.is_integer()):\r\n",
    "        return int(result)\r\n",
    "    return [a, b, '*']\r\n",
    "\r\n",
    "print(div(10, 3))\r\n"
   ],
   "outputs": [
    {
     "output_type": "stream",
     "name": "stdout",
     "text": [
      "[10, 3, '/']\n"
     ]
    }
   ],
   "metadata": {}
  }
 ],
 "metadata": {
  "orig_nbformat": 4,
  "language_info": {
   "name": "python",
   "version": "3.9.1",
   "mimetype": "text/x-python",
   "codemirror_mode": {
    "name": "ipython",
    "version": 3
   },
   "pygments_lexer": "ipython3",
   "nbconvert_exporter": "python",
   "file_extension": ".py"
  },
  "kernelspec": {
   "name": "python3",
   "display_name": "Python 3.9.1 64-bit"
  },
  "interpreter": {
   "hash": "ac59ebe37160ed0dfa835113d9b8498d9f09ceb179beaac4002f036b9467c963"
  }
 },
 "nbformat": 4,
 "nbformat_minor": 2
}