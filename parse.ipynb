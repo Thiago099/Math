{
 "cells": [
  {
   "cell_type": "code",
   "execution_count": 51,
   "metadata": {},
   "outputs": [
    {
     "name": "stdout",
     "output_type": "stream",
     "text": [
      "{'x': x^2}\n",
      "{'x': x^4}\n",
      "[[x^2], [10, 2, x^4, x^3]]\n"
     ]
    }
   ],
   "source": [
    "\n",
    "import tokenizer as to\n",
    "def power_token(input):\n",
    "    result = []\n",
    "    i = 0\n",
    "    while (i < len(input)):\n",
    "        if(input[i].type == 'A'):\n",
    "            if(i + 1 < len(input) and input[i+1].value == '^'):\n",
    "                token = to.token('X', '')\n",
    "                token.variable = input[i].value\n",
    "                token.power = input[i + 2].value\n",
    "                result.append(token)\n",
    "                i += 3\n",
    "            else:\n",
    "                token = to.token('X', '')\n",
    "                token.variable = input[i].value\n",
    "                token.power = 1\n",
    "                result.append(token)\n",
    "                i+=1\n",
    "        else:\n",
    "            if(input[i].value != '*'):\n",
    "                result.append(input[i])\n",
    "            i += 1\n",
    "    return result\n",
    "\n",
    "def split(input):\n",
    "    result = []\n",
    "    bucket = []\n",
    "    def commit():\n",
    "        nonlocal bucket, result\n",
    "        result.append(bucket)\n",
    "        bucket = []\n",
    "    for i in input:\n",
    "        if(i.value == '+'):\n",
    "            commit()\n",
    "        else:\n",
    "            bucket.append(i)\n",
    "    commit()\n",
    "    return result\n",
    "\n",
    "def operate(input):\n",
    "    \n",
    "    for i in input:\n",
    "        current = {}\n",
    "        for j in i:\n",
    "            if(j.type == 'X'):\n",
    "                if(j.variable in current.keys()):\n",
    "                    current[j.variable].power += j.power\n",
    "                else:\n",
    "                    current[j.variable] = j \n",
    "        print(current)\n",
    "\n",
    "        \n",
    "\n",
    "\n",
    "input = to.parse('x^2 + 10 2x x^3')\n",
    "output = split(power_token(input))\n",
    "operate(output)\n",
    "print(output)"
   ]
  }
 ],
 "metadata": {
  "interpreter": {
   "hash": "ac59ebe37160ed0dfa835113d9b8498d9f09ceb179beaac4002f036b9467c963"
  },
  "kernelspec": {
   "display_name": "Python 3.9.1 64-bit",
   "language": "python",
   "name": "python3"
  },
  "language_info": {
   "codemirror_mode": {
    "name": "ipython",
    "version": 3
   },
   "file_extension": ".py",
   "mimetype": "text/x-python",
   "name": "python",
   "nbconvert_exporter": "python",
   "pygments_lexer": "ipython3",
   "version": "3.9.1"
  },
  "orig_nbformat": 4
 },
 "nbformat": 4,
 "nbformat_minor": 2
}
