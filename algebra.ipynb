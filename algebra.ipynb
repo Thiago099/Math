{
 "cells": [
  {
   "cell_type": "code",
   "execution_count": 13,
   "source": [
    "import color as c\r\n",
    "\r\n",
    "def parse_char(m):\r\n",
    "    return ' ' if m < '\"' else '#' if m < '0' else '0' if m < ':' else '#' if m < 'A' else 'A' if m < '[' else '#' if m < 'a' else 'a' if m < '{' else '#'\r\n",
    "\r\n",
    "def parse(input):\r\n",
    "    parsed_input = []\r\n",
    "    current = input[0]\r\n",
    "    current_type = parse_char(input[0])\r\n",
    "    for j in range(1, len(input)):\r\n",
    "        t = parse_char(i[j])\r\n",
    "        if(t != current_type or current_type == '#'):\r\n",
    "            parsed_input.append([current, current_type])\r\n",
    "            current_type = t\r\n",
    "            current = ''\r\n",
    "        current += input[j]\r\n",
    "    parsed_input.append([current, current_type])\r\n",
    "    return parsed_input\r\n",
    "\r\n",
    "def convert(input):\r\n",
    "    color = {\r\n",
    "        '0': c.yellow,\r\n",
    "        'A': c.green,\r\n",
    "        'a': c.white,\r\n",
    "        '#': c.red,\r\n",
    "        ' ': c.pink,\r\n",
    "    }\r\n",
    "    output = ''\r\n",
    "    for i in input:\r\n",
    "        output += color[i[1]] + i[0]\r\n",
    "    return output + c.white\r\n",
    "\r\n",
    "input = [\r\n",
    "    'f = m * a',\r\n",
    "    'f = p * sind(theta)',\r\n",
    "    'p = m * g',\r\n",
    "    'g = 9.8',\r\n",
    "    'm = 8.5',\r\n",
    "    'theta = 30'\r\n",
    "]\r\n",
    "for i in input:\r\n",
    "    print(convert(parse(i)))"
   ],
   "outputs": [
    {
     "output_type": "stream",
     "name": "stdout",
     "text": [
      "\u001b[0mf\u001b[95m \u001b[91m=\u001b[95m \u001b[0mm\u001b[95m \u001b[91m*\u001b[95m \u001b[0ma\u001b[0m\n",
      "\u001b[0mf\u001b[95m \u001b[91m=\u001b[95m \u001b[0mp\u001b[95m \u001b[91m*\u001b[95m \u001b[0msind\u001b[91m(\u001b[0mtheta\u001b[91m)\u001b[0m\n",
      "\u001b[0mp\u001b[95m \u001b[91m=\u001b[95m \u001b[0mm\u001b[95m \u001b[91m*\u001b[95m \u001b[0mg\u001b[0m\n",
      "\u001b[0mg\u001b[95m \u001b[91m=\u001b[95m \u001b[93m9\u001b[91m.\u001b[93m8\u001b[0m\n",
      "\u001b[0mm\u001b[95m \u001b[91m=\u001b[95m \u001b[93m8\u001b[91m.\u001b[93m5\u001b[0m\n",
      "\u001b[0mtheta\u001b[95m \u001b[91m=\u001b[95m \u001b[93m30\u001b[0m\n"
     ]
    }
   ],
   "metadata": {}
  }
 ],
 "metadata": {
  "orig_nbformat": 4,
  "language_info": {
   "name": "python",
   "version": "3.9.1",
   "mimetype": "text/x-python",
   "codemirror_mode": {
    "name": "ipython",
    "version": 3
   },
   "pygments_lexer": "ipython3",
   "nbconvert_exporter": "python",
   "file_extension": ".py"
  },
  "kernelspec": {
   "name": "python3",
   "display_name": "Python 3.9.1 64-bit"
  },
  "interpreter": {
   "hash": "ac59ebe37160ed0dfa835113d9b8498d9f09ceb179beaac4002f036b9467c963"
  }
 },
 "nbformat": 4,
 "nbformat_minor": 2
}